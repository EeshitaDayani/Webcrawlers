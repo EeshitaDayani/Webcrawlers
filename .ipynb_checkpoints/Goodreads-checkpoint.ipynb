{
 "cells": [
  {
   "cell_type": "code",
   "execution_count": 1,
   "metadata": {},
   "outputs": [],
   "source": [
    "import requests #pip install requests\n",
    "from bs4 import BeautifulSoup #pip install bs4\n",
    "import os\n",
    "import time\n",
    "import json\n",
    "import re\n",
    "import pandas as pd"
   ]
  },
  {
   "cell_type": "markdown",
   "metadata": {},
   "source": [
    "API's used:\n",
    "- Beautiful Soup: https://www.crummy.com/software/BeautifulSoup/bs4/doc/\n",
    "- Requests : https://requests.readthedocs.io/en/master/\n",
    "\n",
    "Futher Work:\n",
    "- Database: https://medium.com/analytics-vidhya/tutorial-amazon-price-tracker-using-python-and-mongodb-part-1-aece6347ec63\n",
    "- Proxy Servers, Exceptions, crawlers : https://blog.hartleybrody.com/scrape-amazon/"
   ]
  },
  {
   "cell_type": "code",
   "execution_count": 2,
   "metadata": {},
   "outputs": [],
   "source": [
    "url=\"https://www.goodreads.com/book/show/10399742-private-london?ac=1&from_search=true&qid=MkvcCoAwzb&rank=1\""
   ]
  },
  {
   "cell_type": "code",
   "execution_count": 3,
   "metadata": {},
   "outputs": [],
   "source": [
    "headers = { \"User-Agent\": \"Mozilla/5.0 (Windows NT 10.0; Win64; x64) AppleWebKit/537.36 (KHTML, like Gecko) Chrome/83.0.4103.116 Safari/537.36\"}\n"
   ]
  },
  {
   "cell_type": "code",
   "execution_count": 4,
   "metadata": {},
   "outputs": [],
   "source": [
    "def ParseHTML(url, printHTML = False):\n",
    "    r = requests.get(url,headers=headers)\n",
    "        \n",
    "    if r.status_code != 200:        \n",
    "        print(\"Page %s must have been blocked by eBay as the status code was %d\"%(url,r.status_code))\n",
    "        return None\n",
    "    \n",
    "    print(\"Successfully parsed page\")\n",
    "    soup = BeautifulSoup(r.content, features=\"lxml\")\n",
    "    \n",
    "    if (printHTML):\n",
    "        print(soup)\n",
    "    \n",
    "    return soup"
   ]
  },
  {
   "cell_type": "code",
   "execution_count": 5,
   "metadata": {},
   "outputs": [
    {
     "name": "stdout",
     "output_type": "stream",
     "text": [
      "Successfully parsed page\n"
     ]
    }
   ],
   "source": [
    "html = ParseHTML(url, False)"
   ]
  },
  {
   "cell_type": "code",
   "execution_count": 6,
   "metadata": {},
   "outputs": [],
   "source": [
    "def GetBookName_goodreads(html):\n",
    "    nameTag = html.find(id='bookTitle')\n",
    "    name = nameTag.text\n",
    "    return name.strip()"
   ]
  },
  {
   "cell_type": "code",
   "execution_count": 7,
   "metadata": {},
   "outputs": [
    {
     "data": {
      "text/plain": [
       "'Private London'"
      ]
     },
     "execution_count": 7,
     "metadata": {},
     "output_type": "execute_result"
    }
   ],
   "source": [
    "GetBookName_goodreads(html)"
   ]
  },
  {
   "cell_type": "code",
   "execution_count": 8,
   "metadata": {},
   "outputs": [],
   "source": [
    "def GetBookRating_goodreads(html):\n",
    "    ratingTag = html.find(itemprop=\"ratingValue\")\n",
    "    rating = ratingTag.text\n",
    "    return float(rating.strip())\n",
    "    "
   ]
  },
  {
   "cell_type": "code",
   "execution_count": 9,
   "metadata": {},
   "outputs": [
    {
     "data": {
      "text/plain": [
       "3.79"
      ]
     },
     "execution_count": 9,
     "metadata": {},
     "output_type": "execute_result"
    }
   ],
   "source": [
    "GetBookRating_goodreads(html)"
   ]
  },
  {
   "cell_type": "code",
   "execution_count": 10,
   "metadata": {},
   "outputs": [],
   "source": [
    "def GetSimiliarBooks_goodreads(html):\n",
    "    suggestionsHtml = html.find_all(\"li\", attrs={\"class\": \"cover\"})\n",
    "    suggestionsDict = {}\n",
    "\n",
    "    for suggestion in suggestionsHtml:\n",
    "        url = suggestion.find(\"a\")['href']\n",
    "        name = suggestion.find(\"img\")['alt']\n",
    "        splitname = name.split(' |')\n",
    "        suggestionsDict[splitname[0]] = url\n",
    "\n",
    "    return suggestionsDict\n"
   ]
  },
  {
   "cell_type": "code",
   "execution_count": 11,
   "metadata": {},
   "outputs": [
    {
     "data": {
      "text/plain": [
       "{'Private Down Under: by James Patterson & Michael White': 'https://www.goodreads.com/book/show/24168606-private-down-under',\n",
       " 'Private L.A.: by James Patterson and Mark Sullivan -- Review': 'https://www.goodreads.com/book/show/20938684-private-l-a',\n",
       " 'Firing Point (Jack Ryan Universe,  #29)': 'https://www.goodreads.com/book/show/48733083-firing-point',\n",
       " 'Private (Private, #1)': 'https://www.goodreads.com/book/show/7134202-private',\n",
       " 'Private #1 Suspect (Private, #2)': 'https://www.goodreads.com/book/show/10808006-private-1-suspect',\n",
       " 'Private Games (Private, #3)': 'https://www.goodreads.com/book/show/11343348-private-games',\n",
       " 'Private Berlin (Private, #5)': 'https://www.goodreads.com/book/show/14781219-private-berlin',\n",
       " 'Private L.A. (Private, #6)': 'https://www.goodreads.com/book/show/17724749-private-l-a',\n",
       " 'Private: Oz (Private, #7)': 'https://www.goodreads.com/book/show/16009141-private',\n",
       " 'Private India (Private, #8)': 'https://www.goodreads.com/book/show/19186402-private-india',\n",
       " 'Private Vegas (Private, #9)': 'https://www.goodreads.com/book/show/21423303-private-vegas',\n",
       " 'Private Paris (Private, #10)': 'https://www.goodreads.com/book/show/25324116-private-paris',\n",
       " 'Private Rio (Private, #11)': 'https://www.goodreads.com/book/show/26210516-private-rio'}"
      ]
     },
     "execution_count": 11,
     "metadata": {},
     "output_type": "execute_result"
    }
   ],
   "source": [
    "GetSimiliarBooks_goodreads(html)\n"
   ]
  },
  {
   "cell_type": "code",
   "execution_count": 12,
   "metadata": {},
   "outputs": [],
   "source": [
    "def MonitorRating(url, minimumRating = 4, maximumTime = 10):\n",
    "    \n",
    "    # Parses the html to obtain the product name and current price\n",
    "    html = ParseHTML(url)\n",
    "    bookRating = GetBookRating_goodreads(html)\n",
    "    bookName = GetBookName_goodreads(html)\n",
    "    \n",
    "    # sanity check\n",
    "    if (bookRating > minimumRating ):\n",
    "        return \" GO READ\"\n",
    "\n",
    "    print(\"Monitoring book: \" + bookName + \" \\n\")\n",
    "    startTime = time.time()\n",
    "    \n",
    "    \n",
    "    # Two conditions to keep checking:\n",
    "        # 1. The minimum rating is higher than the current book rating\n",
    "        # 2. The time we have spend running the bot is less than the maximumTime\n",
    "    while ( bookRating < minimumRating and time.time()-startTime < maximumTime):\n",
    "\n",
    "        html = ParseHTML(url)\n",
    "        bookRating = GetBookRating_goodreads(html)\n",
    "        \n",
    "        print(\" Time: \" + str(time.ctime()) )\n",
    "        print(\" Rating: \" + str(bookRating) + \" \\n\")\n",
    "        \n",
    "        if (bookRating > minimumRating):\n",
    "            return \"GO READ!!!\"\n",
    "        \n",
    "        # Wait for 3 seconds before checking again\n",
    "        time.sleep(3)\n",
    "\n",
    "        \n",
    "    similiarBooks = GetSimiliarBooks_goodreads(html)\n",
    "    print(\"Ratings did not match required value in given time frame. \\n\")\n",
    "    print(\"Some similiar books:\")\n",
    "    \n",
    "    for book in similiarBooks.keys():\n",
    "        print(book)\n",
    "        print(similiarBooks[book])\n",
    "        print()\n",
    "    \n",
    "    return \"Sorry\""
   ]
  },
  {
   "cell_type": "code",
   "execution_count": 13,
   "metadata": {},
   "outputs": [
    {
     "name": "stdout",
     "output_type": "stream",
     "text": [
      "Successfully parsed page\n",
      "Monitoring book: Private London \n",
      "\n",
      "Successfully parsed page\n",
      " Time: Sat Oct  3 03:32:25 2020\n",
      " Rating: 3.79 \n",
      "\n",
      "Successfully parsed page\n",
      " Time: Sat Oct  3 03:32:32 2020\n",
      " Rating: 3.79 \n",
      "\n",
      "Ratings did not match required value in given time frame. \n",
      "\n",
      "Some similiar books:\n",
      "Private Down Under: by James Patterson & Michael White\n",
      "https://www.goodreads.com/book/show/24168606-private-down-under\n",
      "\n",
      "Private L.A.: by James Patterson and Mark Sullivan -- Review\n",
      "https://www.goodreads.com/book/show/20938684-private-l-a\n",
      "\n",
      "Firing Point (Jack Ryan Universe,  #29)\n",
      "https://www.goodreads.com/book/show/48733083-firing-point\n",
      "\n",
      "Private (Private, #1)\n",
      "https://www.goodreads.com/book/show/7134202-private\n",
      "\n",
      "Private #1 Suspect (Private, #2)\n",
      "https://www.goodreads.com/book/show/10808006-private-1-suspect\n",
      "\n",
      "Private Games (Private, #3)\n",
      "https://www.goodreads.com/book/show/11343348-private-games\n",
      "\n",
      "Private Berlin (Private, #5)\n",
      "https://www.goodreads.com/book/show/14781219-private-berlin\n",
      "\n",
      "Private L.A. (Private, #6)\n",
      "https://www.goodreads.com/book/show/17724749-private-l-a\n",
      "\n",
      "Private: Oz (Private, #7)\n",
      "https://www.goodreads.com/book/show/16009141-private\n",
      "\n",
      "Private India (Private, #8)\n",
      "https://www.goodreads.com/book/show/19186402-private-india\n",
      "\n",
      "Private Vegas (Private, #9)\n",
      "https://www.goodreads.com/book/show/21423303-private-vegas\n",
      "\n",
      "Private Paris (Private, #10)\n",
      "https://www.goodreads.com/book/show/25324116-private-paris\n",
      "\n",
      "Private Rio (Private, #11)\n",
      "https://www.goodreads.com/book/show/26210516-private-rio\n",
      "\n"
     ]
    },
    {
     "data": {
      "text/plain": [
       "'Sorry'"
      ]
     },
     "execution_count": 13,
     "metadata": {},
     "output_type": "execute_result"
    }
   ],
   "source": [
    "MonitorRating(url, 4, 10)"
   ]
  },
  {
   "cell_type": "code",
   "execution_count": null,
   "metadata": {},
   "outputs": [],
   "source": []
  }
 ],
 "metadata": {
  "kernelspec": {
   "display_name": "Python 3",
   "language": "python",
   "name": "python3"
  },
  "language_info": {
   "codemirror_mode": {
    "name": "ipython",
    "version": 3
   },
   "file_extension": ".py",
   "mimetype": "text/x-python",
   "name": "python",
   "nbconvert_exporter": "python",
   "pygments_lexer": "ipython3",
   "version": "3.7.3"
  }
 },
 "nbformat": 4,
 "nbformat_minor": 2
}
