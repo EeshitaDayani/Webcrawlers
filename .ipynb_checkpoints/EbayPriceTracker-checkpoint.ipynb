{
 "cells": [
  {
   "cell_type": "code",
   "execution_count": 1,
   "metadata": {},
   "outputs": [],
   "source": [
    "import requests #pip install requests\n",
    "from bs4 import BeautifulSoup #pip install bs4\n",
    "import os\n",
    "import time\n",
    "import json\n",
    "import re\n",
    "import pandas as pd"
   ]
  },
  {
   "cell_type": "markdown",
   "metadata": {},
   "source": [
    "API's used:\n",
    "- Beautiful Soup: https://www.crummy.com/software/BeautifulSoup/bs4/doc/\n",
    "- Requests : https://requests.readthedocs.io/en/master/\n",
    "\n",
    "Futher Work:\n",
    "- Database: https://medium.com/analytics-vidhya/tutorial-amazon-price-tracker-using-python-and-mongodb-part-1-aece6347ec63\n",
    "- Proxy Servers, Exceptions, crawlers : https://blog.hartleybrody.com/scrape-amazon/"
   ]
  },
  {
   "cell_type": "code",
   "execution_count": 2,
   "metadata": {},
   "outputs": [],
   "source": [
    "url= \"https://www.ebay.com/itm/Reebok-Jet-Dashride-Running-Shoes-Sz-10-Mens-Silver-Gray-1AP502316-Athletic/143437209311?epid=14036828504&_trkparms=ispr%3D1&hash=item2165861edf:g:XlcAAOSwJO9dPZnn&enc=AQAFAAACYBaobrjLl8XobRIiIML1V4Imu%2Fn%2BzU5L90Z278x5ickk7d4nremBkvNKtcC0ZwqXDK%2Fkcm30YG4tTXkJ14lvXIPYHVuhiF1rDrBfbQSyjSYIyfMw5MnR3%2Bh7QffsplfYJlPW9yCK%2BKWyTAmYhku5vGW6JNt91CCdIrc0Twa6Ai7%2BwinIg7YdD3I6eP9xh8aFKVH1lqojT5k5AKSfCt9Uu%2FXHfyZvkYhIsZIhMxNe0gzKasMDuSvd14lHJNsiLPV1EmSyfT1%2B%2BRU0lv9AuiWvmGby3JMQzTBoBSgYNMVp6IfTqTMzdm58W%2BY8KcLuWO9JdeslB7ejS7r00qGXrRJMEVpgYGmK5YmG3RrfR3DuHSKg5F3%2Bo%2FlF9v5wTIvl6HgdfzljiVN3mXJFTGpOhAlzChAzE1d%2F7KOKwL4u0ArRx73CutPhydyWuZZCATgoFmZPuHxzqWysolyF8DjEFYe6QFuv2CiqqyqPzhNcT%2BzBSCfGoEvgB7FrJ62bfarlPgTENv3zcJJZCUuo8nzoJcvqCXn5eTLEM5VBey6fTzzwmuCPSZivuomh%2BFrXAWme%2FA2Ey43CTtc7jECiX2Oogb53DwuV3decq4g46YmAp%2BctyVMsK7PISg6XtNOkdL7LgzK9SimbMKPOYtmV7qpCZLqHKGpWT6W9HcnPcRAbEwn5y8BO5mViJkP6%2F2S30rdKFYyOVQxLYo4nyJGJbohjwT0idzS%2FuzUyZ4gQK%2BfyceTePUrBkeOtwf2aEAydkof4s7LNmHdzygfNM0MF%2FXyM35OCPKTlgcjGqhMPSFX4oyumJPf2&checksum=1434372093119a099adbb1b247eaaedbbd8302b7be5d\""
   ]
  },
  {
   "cell_type": "code",
   "execution_count": 3,
   "metadata": {},
   "outputs": [],
   "source": [
    "headers = { \"User-Agent\": \"Mozilla/5.0 (Windows NT 10.0; Win64; x64) AppleWebKit/537.36 (KHTML, like Gecko) Chrome/84.0.4147.89 Safari/537.36 Edg/84.0.522.40\"}\n"
   ]
  },
  {
   "cell_type": "code",
   "execution_count": 4,
   "metadata": {},
   "outputs": [],
   "source": [
    "def ParseHTML(url, printHTML = False):\n",
    "    r = requests.get(url,headers=headers)\n",
    "        \n",
    "    if r.status_code != 200:        \n",
    "        print(\"Page %s must have been blocked by eBay as the status code was %d\"%(url,r.status_code))\n",
    "        return None\n",
    "    \n",
    "    print(\"Successfully parsed page\")\n",
    "    soup = BeautifulSoup(r.content, features=\"lxml\")\n",
    "    \n",
    "    if (printHTML):\n",
    "        print(soup)\n",
    "    \n",
    "    return soup"
   ]
  },
  {
   "cell_type": "code",
   "execution_count": 5,
   "metadata": {},
   "outputs": [
    {
     "name": "stdout",
     "output_type": "stream",
     "text": [
      "Successfully parsed page\n"
     ]
    }
   ],
   "source": [
    "html = ParseHTML(url, False)"
   ]
  },
  {
   "cell_type": "code",
   "execution_count": 6,
   "metadata": {},
   "outputs": [],
   "source": [
    "def GetProductName_eBay(html):\n",
    "    nameTag = str(html.find(id='itemTitle'))\n",
    "    name = re.search(\"</span>(.*)</h1>\", nameTag).group(1)    \n",
    "    return name"
   ]
  },
  {
   "cell_type": "code",
   "execution_count": 7,
   "metadata": {},
   "outputs": [
    {
     "data": {
      "text/plain": [
       "'Reebok Jet Dashride Running Shoes Sz 10 Mens Silver Gray 1AP502316 Athletic'"
      ]
     },
     "execution_count": 7,
     "metadata": {},
     "output_type": "execute_result"
    }
   ],
   "source": [
    "GetProductName_eBay(html)"
   ]
  },
  {
   "cell_type": "code",
   "execution_count": 21,
   "metadata": {},
   "outputs": [],
   "source": [
    "def GetProductPrice_eBay(html):\n",
    "    priceTag = str(html.find(id='prcIsum'))\n",
    "    #print(priceTag)\n",
    "    price = float(re.search(\"\\$(.*)</span>\", priceTag).group(1))\n",
    "    print(price)\n",
    "    return price"
   ]
  },
  {
   "cell_type": "code",
   "execution_count": 22,
   "metadata": {},
   "outputs": [
    {
     "name": "stdout",
     "output_type": "stream",
     "text": [
      "95.75\n"
     ]
    },
    {
     "data": {
      "text/plain": [
       "95.75"
      ]
     },
     "execution_count": 22,
     "metadata": {},
     "output_type": "execute_result"
    }
   ],
   "source": [
    "GetProductPrice_eBay(html)"
   ]
  },
  {
   "cell_type": "code",
   "execution_count": 19,
   "metadata": {},
   "outputs": [],
   "source": [
    "def GetSimiliarProducts_ebay(html):\n",
    "    try:\n",
    "        suggestionsHtml = html.find(\"ul\", attrs={\"class\": ['mfe-recos', 'mfe-recos-slider', 'clear', 'limit-small-screen']}).find_all(\"li\")\n",
    "        suggestionsDict = {}\n",
    "\n",
    "        for suggestion in suggestionsHtml:\n",
    "            url = suggestion.find(\"a\")['href']\n",
    "            name = suggestion.find(\"p\").text\n",
    "            suggestionsDict[name] = url\n",
    "\n",
    "        return suggestionsDict\n",
    "    except:\n",
    "        return 'Sorry, no similar products found.'"
   ]
  },
  {
   "cell_type": "code",
   "execution_count": 20,
   "metadata": {},
   "outputs": [
    {
     "data": {
      "text/plain": [
       "'Sorry, no similar products found.'"
      ]
     },
     "execution_count": 20,
     "metadata": {},
     "output_type": "execute_result"
    }
   ],
   "source": [
    "GetSimiliarProducts_ebay(html)"
   ]
  },
  {
   "cell_type": "code",
   "execution_count": 17,
   "metadata": {},
   "outputs": [],
   "source": [
    "def MonitorPrice(url, maximumPrice = 40, maximumTime = 10):\n",
    "    \n",
    "    # Parses the html to obtain the product name and current price\n",
    "    html = ParseHTML(url)\n",
    "    productPrice = GetProductPrice_eBay(html)\n",
    "    productName = GetProductName_eBay(html)\n",
    "    \n",
    "    # sanity check\n",
    "    if (productPrice < maximumPrice):\n",
    "        return \" GO BUY\"\n",
    "\n",
    "    print(\"Monioting product: \" + productName + \" \\n\")\n",
    "    startTime = time.time()\n",
    "    \n",
    "    \n",
    "    # Two conditions to keep checking:\n",
    "        # 1. The product price is higher than what we are willing to pay\n",
    "        # 2. The time we have spend running the bot is less than the maximumTime\n",
    "    while ( productPrice > maximumPrice and time.time()-startTime < maximumTime):\n",
    "\n",
    "        html = ParseHTML(url)\n",
    "        productPrice = GetProductPrice_eBay(html)\n",
    "        \n",
    "        print(\" Time: \" + str(time.ctime()) )\n",
    "        print(\" Price: \" + str(productPrice) + \" \\n\")\n",
    "        \n",
    "        if (productPrice < maximumPrice):\n",
    "            return \"GO BUY!!!\"\n",
    "        \n",
    "        # Wait for 3 seconds before checking again\n",
    "        time.sleep(3)\n",
    "\n",
    "        \n",
    "    similiarProducts = GetSimiliarProducts_ebay(html)\n",
    "    print(\"Product price did not drop to required value in given time frame. \\n\")\n",
    "    print(\"Some similiar products:\")\n",
    "    \n",
    "    if type(similarProducts) != str:\n",
    "        for item in similiarProducts.keys():\n",
    "            print(item)\n",
    "            print(similiarProducts[item])\n",
    "            print()\n",
    "    \n",
    "    return \"Sorry\""
   ]
  },
  {
   "cell_type": "code",
   "execution_count": 23,
   "metadata": {},
   "outputs": [
    {
     "name": "stdout",
     "output_type": "stream",
     "text": [
      "Successfully parsed page\n",
      "95.75\n",
      "Monioting product: Reebok Jet Dashride Running Shoes Sz 10 Mens Silver Gray 1AP502316 Athletic \n",
      "\n",
      "Successfully parsed page\n",
      "95.75\n",
      " Time: Sat Oct  3 14:49:52 2020\n",
      " Price: 95.75 \n",
      "\n",
      "Successfully parsed page\n",
      "95.75\n",
      " Time: Sat Oct  3 14:49:58 2020\n",
      " Price: 95.75 \n",
      "\n",
      "Product price did not drop to required value in given time frame. \n",
      "\n",
      "Some similiar products:\n"
     ]
    },
    {
     "data": {
      "text/plain": [
       "'Sorry'"
      ]
     },
     "execution_count": 23,
     "metadata": {},
     "output_type": "execute_result"
    }
   ],
   "source": [
    "MonitorPrice(url, 30, 10)"
   ]
  },
  {
   "cell_type": "code",
   "execution_count": null,
   "metadata": {},
   "outputs": [],
   "source": []
  }
 ],
 "metadata": {
  "kernelspec": {
   "display_name": "Python 3",
   "language": "python",
   "name": "python3"
  },
  "language_info": {
   "codemirror_mode": {
    "name": "ipython",
    "version": 3
   },
   "file_extension": ".py",
   "mimetype": "text/x-python",
   "name": "python",
   "nbconvert_exporter": "python",
   "pygments_lexer": "ipython3",
   "version": "3.7.6"
  }
 },
 "nbformat": 4,
 "nbformat_minor": 2
}
